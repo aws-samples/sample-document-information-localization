{
 "cells": [
  {
   "cell_type": "markdown",
   "metadata": {},
   "source": [
    "# Document Information Localization with MLLMs - Demo\n",
    "\n",
    "This notebook demonstrates how to use the document information localization library."
   ]
  },
  {
   "cell_type": "code",
   "execution_count": null,
   "metadata": {},
   "outputs": [],
   "source": [
    "# Add src to path\n",
    "import sys\n",
    "from pathlib import Path\n",
    "sys.path.append(str(Path.cwd().parent / \"src\"))\n",
    "\n",
    "# Import the modules\n",
    "from extractor import BoundingBoxExtractor\n",
    "from evaluator import BBoxEvaluator\n",
    "from utils.bedrock_helper import NOVA_PRO_MODEL_ID\n",
    "from utils.bbox_drawing import draw_bounding_boxes"
   ]
  },
  {
   "cell_type": "code",
   "execution_count": null,
   "metadata": {},
   "outputs": [],
   "source": [
    "# Define schema for document fields\n",
    "schema = {\n",
    "    'TABLE': [[{'bbox': [['float']]}]],\n",
    "    'BUYER': {'bbox': [['float']]},\n",
    "    'DATE': {'bbox': [['float']]},\n",
    "    'NUMBER': {'bbox': [['float']]},\n",
    "    'SELLER_ADDRESS': {'bbox': [['float']]},\n",
    "    'SELLER_NAME': {'bbox': [['int']]},\n",
    "    'SUB_TOTAL': {'bbox': [['float']]},\n",
    "    'TITLE': {'bbox': [['float']]},\n",
    "    'TOTAL': {'bbox': [['float']]},\n",
    "    'GSTIN': {'bbox': [['float']]},\n",
    "    'GST(7%)': {'bbox': [['float']]},\n",
    "    'OTHER': {'text': 'str'},\n",
    "    'LOGO': {'bbox': [['int']]}\n",
    "}"
   ]
  },
  {
   "cell_type": "code",
   "execution_count": null,
   "metadata": {},
   "outputs": [],
   "source": [
    "# Initialize extractors\n",
    "nova_extractor = BoundingBoxExtractor(\n",
    "    model_id=NOVA_PRO_MODEL_ID,\n",
    "    prompt_template_file=\"../src/prompts/localization_normalized.txt\",\n",
    "    field_config=schema,\n",
    "    norm=1000\n",
    ")\n",
    "\n",
    "print(\"Extractors initialized successfully!\")"
   ]
  },
  {
   "cell_type": "code",
   "execution_count": null,
   "metadata": {},
   "outputs": [],
   "source": [
    "# Load a sample document\n",
    "document_path = \"resources/FATURA_Template2_Instance0.jpg\"\n",
    "\n",
    "with open(document_path, \"rb\") as f:\n",
    "    document_bytes = f.read()\n",
    "\n",
    "print(f\"Loaded document: {document_path}\")"
   ]
  },
  {
   "cell_type": "code",
   "execution_count": null,
   "metadata": {},
   "outputs": [],
   "source": [
    "# Extract bounding boxes with Nova Pro\n",
    "nova_results, nova_metadata = nova_extractor.get_bboxes(document_bytes)\n",
    "print(\"Nova Pro Results:\")\n",
    "print(f\"Metadata: {nova_metadata}\")\n",
    "print(f\"Extracted fields: {list(nova_results.keys())}\")"
   ]
  },
  {
   "cell_type": "code",
   "execution_count": null,
   "metadata": {},
   "outputs": [],
   "source": [
    "nova_results"
   ]
  },
  {
   "cell_type": "code",
   "execution_count": null,
   "metadata": {},
   "outputs": [],
   "source": [
    "# Load ground truth for evaluation\n",
    "import json\n",
    "\n",
    "with open(\"resources/FATURA_Template2_Instance0.json\", 'r') as f:\n",
    "    ground_truth = json.load(f)\n",
    "\n",
    "print(\"Ground truth loaded\")"
   ]
  },
  {
   "cell_type": "code",
   "execution_count": null,
   "metadata": {},
   "outputs": [],
   "source": [
    "# Evaluate results\n",
    "evaluator = BBoxEvaluator(field_config=schema)\n",
    "\n",
    "nova_evaluation = evaluator.evaluate(nova_results, ground_truth)\n",
    "\n",
    "print(f\"Nova Pro Mean AP: {nova_evaluation['mean_ap']:.3f}\")"
   ]
  },
  {
   "cell_type": "code",
   "execution_count": null,
   "metadata": {},
   "outputs": [],
   "source": [
    "nova_evaluation"
   ]
  },
  {
   "cell_type": "code",
   "execution_count": null,
   "metadata": {},
   "outputs": [],
   "source": [
    "# Visualize\n",
    "\n",
    "image = draw_bounding_boxes(document_bytes, nova_results)\n",
    "display(image)"
   ]
  }
 ],
 "metadata": {
  "kernelspec": {
   "display_name": "Python 3",
   "language": "python",
   "name": "python3"
  },
  "language_info": {
   "codemirror_mode": {
    "name": "ipython",
    "version": 3
   },
   "file_extension": ".py",
   "mimetype": "text/x-python",
   "name": "python",
   "nbconvert_exporter": "python",
   "pygments_lexer": "ipython3",
   "version": "3.9.6"
  }
 },
 "nbformat": 4,
 "nbformat_minor": 4
}
